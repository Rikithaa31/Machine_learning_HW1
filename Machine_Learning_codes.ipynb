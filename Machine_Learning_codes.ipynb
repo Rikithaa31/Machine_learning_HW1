{
  "nbformat": 4,
  "nbformat_minor": 0,
  "metadata": {
    "colab": {
      "provenance": [],
      "gpuType": "T4"
    },
    "kernelspec": {
      "name": "python3",
      "display_name": "Python 3"
    },
    "language_info": {
      "name": "python"
    },
    "accelerator": "GPU"
  },
  "cells": [
    {
      "cell_type": "markdown",
      "source": [
        "# **1. Function Approximation**\n",
        "\n",
        "Dataset: (1,1), (2,2), (3,2), (4,5)\n",
        "\n",
        "**Prediction:** $\\hat y = \\theta_1 x + \\theta_2$  \n",
        "**MSE:** $J(\\theta)=\\tfrac{1}{N}\\sum_{i=1}^N\\big(y^{(i)}-\\hat y^{(i)}\\big)^2$, with $N=4$."
      ],
      "metadata": {
        "id": "Hh8vcJ3yNXus"
      }
    },
    {
      "cell_type": "markdown",
      "source": [
        "## Model 1: $\\theta=(1,0) $\n",
        "| x | y | ŷ=θ1·x+θ2 | r=y-ŷ | r² |\n",
        "|---:|---:|---:|---:|---:|\n",
        "| 1 | 1 | 1.00 | 0.00 | 0.0000 |\n",
        "| 2 | 2 | 2.00 | 0.00 | 0.0000 |\n",
        "| 3 | 2 | 3.00 | -1.00 | 1.0000 |\n",
        "| 4 | 5 | 4.00 | 1.00 | 1.0000 |\n",
        "\n",
        "SSE = 2.0000\n",
        "\n",
        "**MSE J = 0.50000**"
      ],
      "metadata": {
        "id": "7feszUZ9WfPe"
      }
    },
    {
      "cell_type": "markdown",
      "source": [
        "## Model 2: $\\theta=(0.5,1)$\n",
        "| x | y | ŷ=θ1·x+θ2 | r=y-ŷ | r² |\n",
        "|---:|---:|---:|---:|---:|\n",
        "| 1 | 1 | 1.50 | -0.50 | 0.2500 |\n",
        "| 2 | 2 | 2.00 | 0.00 | 0.0000 |\n",
        "| 3 | 2 | 2.50 | -0.50 | 0.2500 |\n",
        "| 4 | 5 | 3.00 | 2.00 | 4.0000 |\n",
        "\n",
        "SSE = 4.5000\n",
        "\n",
        "**MSE J = 1.12500**"
      ],
      "metadata": {
        "id": "3H6dcGsIWfSX"
      }
    },
    {
      "cell_type": "markdown",
      "source": [
        "## Conclusion\n",
        "The lower MSE is from **(1, 0)**: 0.50000 vs 1.12500.  \n",
        "So **(1, 0)** fits this dataset better."
      ],
      "metadata": {
        "id": "Lv48P3OUW4K8"
      }
    },
    {
      "cell_type": "markdown",
      "source": [
        "# **2.Random Guessing Practice**\n",
        "\n",
        "Cost function:  \n",
        "$J(\\theta_1,\\theta_2)=8(\\theta_1-0.3)^2+4(\\theta_2-0.7)^2$\n",
        "\n",
        "The minimum is at $(0.3,0.7)$ . Below are step-by-step evaluations."
      ],
      "metadata": {
        "id": "_g3geDKgW4N1"
      }
    },
    {
      "cell_type": "markdown",
      "source": [
        "## Step-by-step calculations\n",
        "| θ1 | θ2 | θ1−0.3 | (θ1−0.3)^2 | 8(θ1−0.3)^2 | θ2−0.7 | (θ2−0.7)^2 | 4(θ2−0.7)^2 | J |\n",
        "|---:|---:|---:|---:|---:|---:|---:|---:|---:|\n",
        "| 0.10 | 0.20 | -0.20 | 0.0400 | 0.3200 | -0.50 | 0.2500 | 1.0000 | 1.32000 |\n",
        "| 0.50 | 0.90 | 0.20 | 0.0400 | 0.3200 | 0.20 | 0.0400 | 0.1600 | 0.48000 |"
      ],
      "metadata": {
        "id": "QTYtzi9jYCaN"
      }
    },
    {
      "cell_type": "markdown",
      "source": [
        "## Results\n",
        "$J(0.1,0.2)=1.32000$  \n",
        "$J(0.5,0.9)=0.48000$  \n",
        "\n",
        "**Closer to the minimum:** (0.5, 0.9) (lower cost)."
      ],
      "metadata": {
        "id": "o2jLj2uSYCdH"
      }
    },
    {
      "cell_type": "markdown",
      "source": [
        "## Why random guessing is inefficient\n",
        "Random guessing explores the parameter space blindly; with a continuous space, the probability of landing near the optimum is tiny, so many evaluations are wasted. Cost contours are elliptical here, and without gradient or curvature information, guesses won't systematically move toward the minimum. Methods like gradient descent exploit the slope to reduce $J$ reliably each step, whereas random guesses have no such directionality.\n"
      ],
      "metadata": {
        "id": "nT3dfmCuYC6m"
      }
    },
    {
      "cell_type": "code",
      "source": [
        "def J(theta1, theta2):\n",
        "    return 8*(theta1-0.3)**2 + 4*(theta2-0.7)**2\n",
        "print(J(0.1,0.2))\n",
        "print(J(0.5,0.9))"
      ],
      "metadata": {
        "colab": {
          "base_uri": "https://localhost:8080/"
        },
        "id": "Y_C2wJvtYkJD",
        "outputId": "6d2f3d09-4809-4bc4-9c02-0e8d4272f6e5"
      },
      "execution_count": 11,
      "outputs": [
        {
          "output_type": "stream",
          "name": "stdout",
          "text": [
            "1.3199999999999998\n",
            "0.4800000000000002\n"
          ]
        }
      ]
    },
    {
      "cell_type": "markdown",
      "source": [
        "# **3.First Gradient Descent Iteration — Step by Step**\n",
        "Dataset: (1,3), (2,4), (3,6), (4,5);  $N=4$  \n",
        "\n",
        "**Prediction:** $\\hat y = \\theta_1 x + \\theta_2$  \n",
        "**MSE:** $J(\\theta)=\\tfrac{1}{N}\\sum_{i=1}^{N}(y^{(i)}-\\hat y^{(i)})^2$  \n",
        "\n",
        "**Gradients:** $\\tfrac{\\partial J}{\\partial \\theta_1}= -\\tfrac{2}{N}\\sum x^{(i)}(y^{(i)}-\\hat y^{(i)})$,  $\\tfrac{\\partial J}{\\partial \\theta_2}= -\\tfrac{2}{N}\\sum (y^{(i)}-\\hat y^{(i)})$  \n",
        "**Update:** $\\theta \\leftarrow \\theta - \\alpha \\, \\nabla J$, with $\\alpha=0.01$."
      ],
      "metadata": {
        "id": "w0TzhxS3YnS2"
      }
    },
    {
      "cell_type": "markdown",
      "source": [
        "## Start: $\\theta^{(0)}=(0,0)$ — predictions, residuals, sums\n",
        "| x | y | ŷ=θ1·x+θ2 | r=y−ŷ | x·r | r² |\n",
        "|---:|---:|---:|---:|---:|---:|\n",
        "| 1 | 3 | 0.000000 | 3.000000 | 3.000000 | 9.000000 |\n",
        "| 2 | 4 | 0.000000 | 4.000000 | 8.000000 | 16.000000 |\n",
        "| 3 | 6 | 0.000000 | 6.000000 | 18.000000 | 36.000000 |\n",
        "| 4 | 5 | 0.000000 | 5.000000 | 20.000000 | 25.000000 |\n",
        "\n",
        "$\\sum r = 18.000000$,  $\\sum x r = 49.000000$  \n",
        "$\\Rightarrow\\ \\nabla J(\\theta^0) = \\left( -\\tfrac{2}{N}\\sum xr,\\ -\\tfrac{2}{N}\\sum r \\right) = (-24.500000, -9.000000)$  \n",
        "Update: $\\theta^1 = (0,0) - 0.01\\cdot\\nabla J = (0.245000, 0.090000)$  \n",
        "\n",
        "$J(\\theta^0) = 21.500000$,   $J(\\theta^1) = 15.256037$\n",
        "\n",
        "**Comparison:** $J(\\theta^0) = 21.500000 \\;\\boldsymbol{>}\\; J(\\theta^1) = 15.256037$, so error decreased after the first update."
      ],
      "metadata": {
        "id": "WlLIX-4PYns2"
      }
    },
    {
      "cell_type": "markdown",
      "source": [
        "## Continue: $\\theta^{(1)}$ — predictions, residuals, sums, and update\n",
        "| x | y | ŷ=θ1·x+θ2 | r=y−ŷ | x·r | r² |\n",
        "|---:|---:|---:|---:|---:|---:|\n",
        "| 1 | 3 | 0.335000 | 2.665000 | 2.665000 | 7.102225 |\n",
        "| 2 | 4 | 0.580000 | 3.420000 | 6.840000 | 11.696400 |\n",
        "| 3 | 6 | 0.825000 | 5.175000 | 15.525000 | 26.780625 |\n",
        "| 4 | 5 | 1.070000 | 3.930000 | 15.720000 | 15.444900 |\n",
        "\n",
        "$\\sum r = 15.190000$,  $\\sum x r = 40.750000$  \n",
        "$\\Rightarrow\\ \\nabla J(\\theta^1) = (-20.375000, -7.595000)$  \n",
        "Update: $\\theta^2 = \\theta^1 - 0.01\\cdot\\nabla J = (0.448750, 0.165950)$  \n",
        "\n",
        "$J(\\theta^1) = 15.256037$,   $J(\\theta^2) = 10.922289$  \n",
        "\n",
        "**Comparison:** $J(\\theta^1) = 15.256037 \\;\\boldsymbol{>}\\; J(\\theta^2) = 10.922289$, so error decreased again on the second update."
      ],
      "metadata": {
        "id": "2UYwNAQQcAQ8"
      }
    },
    {
      "cell_type": "code",
      "source": [
        "\n",
        "# Verification with numpy (commented for clarity)\n",
        "import numpy as np\n",
        "\n",
        "data = np.array([[1,3],[2,4],[3,6],[4,5]], dtype=float)\n",
        "X = data[:,0]\n",
        "Y = data[:,1]\n",
        "N = len(X)\n",
        "alpha = 0.01\n",
        "\n",
        "def J(theta1, theta2):\n",
        "    yhat = theta1*X + theta2\n",
        "    return np.mean((Y - yhat)**2)\n",
        "\n",
        "def gradient(theta1, theta2):\n",
        "    yhat = theta1*X + theta2\n",
        "    r = Y - yhat\n",
        "    grad1 = -(2/N) * np.sum(X*r)\n",
        "    grad2 = -(2/N) * np.sum(r)\n",
        "    return grad1, grad2\n",
        "\n",
        "t1, t2 = 0.0, 0.0\n",
        "J0 = J(t1, t2)\n",
        "g1, g2 = gradient(t1, t2)\n",
        "t1, t2 = t1 - alpha*g1, t2 - alpha*g2\n",
        "J1 = J(t1, t2)\n",
        "\n",
        "g1b, g2b = gradient(t1, t2)\n",
        "t1_next, t2_next = t1 - alpha*g1b, t2 - alpha*g2b\n",
        "J2 = J(t1_next, t2_next)\n",
        "\n",
        "print('theta^(1)=', (t1, t2))\n",
        "print('theta^(2)=', (t1_next, t2_next))\n",
        "print('J(theta^(0))=', J0)\n",
        "print('J(theta^(1))=', J1)\n",
        "print('J(theta^(2))=', J2)\n"
      ],
      "metadata": {
        "colab": {
          "base_uri": "https://localhost:8080/"
        },
        "id": "AJVwY-l4dG1N",
        "outputId": "f7c68733-2b25-428d-950f-985f4d31b83d"
      },
      "execution_count": 13,
      "outputs": [
        {
          "output_type": "stream",
          "name": "stdout",
          "text": [
            "theta^(1)= (np.float64(0.245), np.float64(0.09))\n",
            "theta^(2)= (np.float64(0.44875), np.float64(0.16595))\n",
            "J(theta^(0))= 21.5\n",
            "J(theta^(1))= 15.256037499999998\n",
            "J(theta^(2))= 10.92228893375\n"
          ]
        }
      ]
    },
    {
      "cell_type": "markdown",
      "source": [
        "# **4.Compare Random Guessing vs One Gradient Descent Step**\n",
        "\n",
        "Dataset: (1,2), (2,2), (3,4), (4,6)"
      ],
      "metadata": {
        "id": "4J05BnDtUC1s"
      }
    },
    {
      "cell_type": "markdown",
      "source": [
        "## Random Guess 1: $(\\theta_1,\\theta_2)=(0.2,\\ 0.5)$\n",
        "| x | y | ŷ=θ1·x+θ2 | r=y-ŷ | r² |\n",
        "|---:|---:|---:|---:|---:|\n",
        "| 1 | 2 | 0.70 | 1.30 | 1.6900 |\n",
        "| 2 | 2 | 0.90 | 1.10 | 1.2100 |\n",
        "| 3 | 4 | 1.10 | 2.90 | 8.4100 |\n",
        "| 4 | 6 | 1.30 | 4.70 | 22.0900 |\n",
        "\n",
        "Sum of squared errors = 33.4000\n",
        "\n",
        "**MSE J = 8.35000**"
      ],
      "metadata": {
        "id": "svte8V3jUKEA"
      }
    },
    {
      "cell_type": "markdown",
      "source": [
        "## Random Guess 2: $(\\theta_1,\\theta_2)=(0.9,\\ 0.1)$\n",
        "| x | y | ŷ=θ1·x+θ2 | r=y-ŷ | r² |\n",
        "|---:|---:|---:|---:|---:|\n",
        "| 1 | 2 | 1.00 | 1.00 | 1.0000 |\n",
        "| 2 | 2 | 1.90 | 0.10 | 0.0100 |\n",
        "| 3 | 4 | 2.80 | 1.20 | 1.4400 |\n",
        "| 4 | 6 | 3.70 | 2.30 | 5.2900 |\n",
        "\n",
        "Sum of squared errors = 7.7400\n",
        "\n",
        "**MSE J = 1.93500**"
      ],
      "metadata": {
        "id": "q4d0Nx61USj1"
      }
    },
    {
      "cell_type": "markdown",
      "source": [
        "## One Gradient Descent Step from $(0,0)$ with $\\alpha=0.01$\n",
        "Gradients at $(0,0)$:  \n",
        "$\\partial J/\\partial \\theta_1 = -\\tfrac{2}{N}\\sum x y = -\\tfrac{2}{4}\\cdot 42 = -21.00$  \n",
        "$\\partial J/\\partial \\theta_2 = -\\tfrac{2}{N}\\sum y = -\\tfrac{2}{4}\\cdot 14 = -7.00$  \n",
        "\n",
        "Update:  \n",
        "$\\theta_1 \\leftarrow 0 - \\alpha\\,(-21.00) = 0.21$,  $\\theta_2 \\leftarrow 0 - \\alpha\\,(-7.00) = 0.07$\n",
        "\n",
        "| x | y | ŷ=θ1·x+θ2 | r=y-ŷ | r² |\n",
        "|---:|---:|---:|---:|---:|\n",
        "| 1 | 2 | 0.28 | 1.72 | 2.9584 |\n",
        "| 2 | 2 | 0.49 | 1.51 | 2.2801 |\n",
        "| 3 | 4 | 0.70 | 3.30 | 10.8900 |\n",
        "| 4 | 6 | 0.91 | 5.09 | 25.9081 |\n",
        "\n",
        "Sum of squared errors = 42.0366\n",
        "\n",
        "**MSE J = 10.50915**"
      ],
      "metadata": {
        "id": "DIUAafp1UeSF"
      }
    },
    {
      "cell_type": "markdown",
      "source": [
        "## Conclusion\n",
        "The lowest MSE here is from the random guess **(0.9, 0.1)**.\n",
        "\n",
        "It is closer to the least-squares line for this dataset, whereas a single small step from (0,0) has not moved far enough to reduce error substantially."
      ],
      "metadata": {
        "id": "kHJZiFlqUhd8"
      }
    },
    {
      "cell_type": "code",
      "source": [
        "#Code for it\n",
        "\n",
        "# Compare two random guesses vs one gradient descent step for simple linear regression\n",
        "import numpy as np\n",
        "\n",
        "# Dataset as arrays: X (features), Y (targets)\n",
        "data = np.array([[1,2],[2,2],[3,4],[4,6]], dtype=float)\n",
        "X = data[:,0]\n",
        "Y = data[:,1]\n",
        "\n",
        "# Mean Squared Error function for parameters (theta1, theta2)\n",
        "def J(theta1, theta2):\n",
        "    y_hat = theta1*X + theta2              # predictions for all x\n",
        "    residuals = Y - y_hat                  # vector of residuals\n",
        "    return np.mean(residuals**2)           # 1/N * sum(r^2)\n",
        "\n",
        "# MSE for two random guesses\n",
        "J_02_05 = J(0.2, 0.5)\n",
        "J_09_01 = J(0.9, 0.1)\n",
        "\n",
        "# One gradient descent step from (0,0) with learning rate alpha\n",
        "alpha = 0.01\n",
        "N = len(X)\n",
        "\n",
        "# At theta=(0,0), gradient simplifies to:\n",
        "# dJ/dtheta1 = -(2/N) * sum(x*y)\n",
        "# dJ/dtheta2 = -(2/N) * sum(y)\n",
        "grad_t1 = -(2/N) * np.sum(X * Y)\n",
        "grad_t2 = -(2/N) * np.sum(Y)\n",
        "\n",
        "# Update rule: theta_new = theta_old - alpha * grad\n",
        "t1 = 0 - alpha * grad_t1\n",
        "t2 = 0 - alpha * grad_t2\n",
        "\n",
        "# MSE after the single GD update\n",
        "J_gd = J(t1, t2)\n",
        "\n",
        "# Print results\n",
        "print('J(0.2, 0.5) =', J_02_05)\n",
        "print('J(0.9, 0.1) =', J_09_01)\n",
        "print('After 1 GD step from (0,0) with alpha=0.01: theta =', (t1, t2))\n",
        "print('J(theta after 1 step) =', J_gd)\n"
      ],
      "metadata": {
        "colab": {
          "base_uri": "https://localhost:8080/"
        },
        "id": "Zrjw_ltlVe0_",
        "outputId": "7d41fa83-5f3b-44b7-851e-22b38b20d8ab"
      },
      "execution_count": 10,
      "outputs": [
        {
          "output_type": "stream",
          "name": "stdout",
          "text": [
            "J(0.2, 0.5) = 8.350000000000001\n",
            "J(0.9, 0.1) = 1.9349999999999996\n",
            "After 1 GD step from (0,0) with alpha=0.01: theta = (np.float64(0.21), np.float64(0.07))\n",
            "J(theta after 1 step) = 10.509149999999998\n"
          ]
        }
      ]
    },
    {
      "cell_type": "markdown",
      "source": [
        "# **5. Recognizing Underfitting and Overfitting**\n",
        "\n",
        "Imagine you train a model and notice the following results:\n",
        "\n",
        "• Training error is very high.\n",
        "\n",
        "• Test error is also very high."
      ],
      "metadata": {
        "id": "vCxBsBJXPe6Z"
      }
    },
    {
      "cell_type": "markdown",
      "source": [
        "**1. Is this an example of underfitting or overfitting?**\n",
        "\n",
        "Underfitting (high bias). Both training and test errors are high, meaning the model can’t even fit the training data’s patterns.\n",
        "\n",
        "**2. Explain why this situation happens.**\n",
        "\n",
        "This happens when the model is too simple, overly regularized, or undertrained, so it can’t capture the underlying relationships even on the training set. With high bias, errors remain large on new data as well.\n",
        "\n",
        "**3. Suggest two possible fixes.**\n",
        "\n",
        "Increase model capacity or add richer/non-linear features. Reduce regularization and tune training (better learning rate, train longer), validating with cross-validation to avoid swinging to overfitting."
      ],
      "metadata": {
        "id": "mGumXqijPfIj"
      }
    },
    {
      "cell_type": "markdown",
      "source": [
        "# **6. Comparing Models**\n",
        "\n",
        "You test two different machine learning models on the same dataset:\n",
        "\n",
        "•\tModel A fits the training data almost perfectly but performs poorly on new unseen data.\n",
        "\n",
        "•\tModel B does not fit the training data very well and also performs poorly on unseen data.\n"
      ],
      "metadata": {
        "id": "i531VxFCOHK_"
      }
    },
    {
      "cell_type": "markdown",
      "source": [
        "**1. Which model is overfitting? Which one is underfitting?**\n",
        "\n",
        "Model A: Overfitting (near-perfect train fit, poor test performance).\n",
        "\n",
        "Model B: Underfitting (poor on both train and test).\n",
        "\n",
        "**2. In each case, what is the tradeoff between bias and variance?**\n",
        "\n",
        "Model A (overfit): Low bias, high variance.\n",
        "\n",
        "Model B (underfit): High bias, low variance (or comparatively lower variance).\n",
        "\n",
        "**3. What would you recommend to improve each model?**\n",
        "\n",
        "Model A (reduce overfit):\n",
        "\n",
        "-> Simplify the model (fewer parameters, lower polynomial degree, shallower trees).\n",
        "\n",
        "-> Increase regularization (L2/L1, weight decay), use dropout/early stopping.\n",
        "\n",
        "-> Add more data or use augmentation; use cross-validation; consider bagging/Random Forests to reduce variance.\n",
        "\n",
        "Model B (reduce underfit):\n",
        "\n",
        "-> Increase model capacity (add features, non-linear terms, deeper networks, more/ deeper trees).\n",
        "\n",
        "-> Decrease regularization strength; train longer with a good learning-rate schedule.\n",
        "\n",
        "-> Do feature engineering (interactions, polynomials) or use boosting methods (GBM/XGBoost) to lower bias."
      ],
      "metadata": {
        "id": "nRspaJYaOSAJ"
      }
    },
    {
      "cell_type": "markdown",
      "source": [
        "# **7. Programming Problem - Implement Gradient Descent for Linear Regression**"
      ],
      "metadata": {
        "id": "JsjZjxTtL4DO"
      }
    },
    {
      "cell_type": "code",
      "execution_count": null,
      "metadata": {
        "colab": {
          "base_uri": "https://localhost:8080/",
          "height": 212
        },
        "id": "zkBr80HzCQTT",
        "outputId": "bfb7595d-1981-42f2-c38b-051896957701"
      },
      "outputs": [
        {
          "output_type": "stream",
          "name": "stdout",
          "text": [
            "Closed-form intercept: 2.690841\n",
            "Closed-form slope: 4.131842\n",
            "Gradient Descent intercept: 2.690841\n",
            "Gradient Descent slope: 4.131842\n",
            "L2 difference between solutions: 1.953410e-10\n"
          ]
        },
        {
          "output_type": "display_data",
          "data": {
            "text/plain": [
              "             Method  Intercept     Slope\n",
              "0       Closed-form   2.690841  4.131842\n",
              "1  Gradient Descent   2.690841  4.131842"
            ],
            "text/html": [
              "\n",
              "  <div id=\"df-38a53383-b89c-4cc8-a01d-e3fc556cd0e9\" class=\"colab-df-container\">\n",
              "    <div>\n",
              "<style scoped>\n",
              "    .dataframe tbody tr th:only-of-type {\n",
              "        vertical-align: middle;\n",
              "    }\n",
              "\n",
              "    .dataframe tbody tr th {\n",
              "        vertical-align: top;\n",
              "    }\n",
              "\n",
              "    .dataframe thead th {\n",
              "        text-align: right;\n",
              "    }\n",
              "</style>\n",
              "<table border=\"1\" class=\"dataframe\">\n",
              "  <thead>\n",
              "    <tr style=\"text-align: right;\">\n",
              "      <th></th>\n",
              "      <th>Method</th>\n",
              "      <th>Intercept</th>\n",
              "      <th>Slope</th>\n",
              "    </tr>\n",
              "  </thead>\n",
              "  <tbody>\n",
              "    <tr>\n",
              "      <th>0</th>\n",
              "      <td>Closed-form</td>\n",
              "      <td>2.690841</td>\n",
              "      <td>4.131842</td>\n",
              "    </tr>\n",
              "    <tr>\n",
              "      <th>1</th>\n",
              "      <td>Gradient Descent</td>\n",
              "      <td>2.690841</td>\n",
              "      <td>4.131842</td>\n",
              "    </tr>\n",
              "  </tbody>\n",
              "</table>\n",
              "</div>\n",
              "    <div class=\"colab-df-buttons\">\n",
              "\n",
              "  <div class=\"colab-df-container\">\n",
              "    <button class=\"colab-df-convert\" onclick=\"convertToInteractive('df-38a53383-b89c-4cc8-a01d-e3fc556cd0e9')\"\n",
              "            title=\"Convert this dataframe to an interactive table.\"\n",
              "            style=\"display:none;\">\n",
              "\n",
              "  <svg xmlns=\"http://www.w3.org/2000/svg\" height=\"24px\" viewBox=\"0 -960 960 960\">\n",
              "    <path d=\"M120-120v-720h720v720H120Zm60-500h600v-160H180v160Zm220 220h160v-160H400v160Zm0 220h160v-160H400v160ZM180-400h160v-160H180v160Zm440 0h160v-160H620v160ZM180-180h160v-160H180v160Zm440 0h160v-160H620v160Z\"/>\n",
              "  </svg>\n",
              "    </button>\n",
              "\n",
              "  <style>\n",
              "    .colab-df-container {\n",
              "      display:flex;\n",
              "      gap: 12px;\n",
              "    }\n",
              "\n",
              "    .colab-df-convert {\n",
              "      background-color: #E8F0FE;\n",
              "      border: none;\n",
              "      border-radius: 50%;\n",
              "      cursor: pointer;\n",
              "      display: none;\n",
              "      fill: #1967D2;\n",
              "      height: 32px;\n",
              "      padding: 0 0 0 0;\n",
              "      width: 32px;\n",
              "    }\n",
              "\n",
              "    .colab-df-convert:hover {\n",
              "      background-color: #E2EBFA;\n",
              "      box-shadow: 0px 1px 2px rgba(60, 64, 67, 0.3), 0px 1px 3px 1px rgba(60, 64, 67, 0.15);\n",
              "      fill: #174EA6;\n",
              "    }\n",
              "\n",
              "    .colab-df-buttons div {\n",
              "      margin-bottom: 4px;\n",
              "    }\n",
              "\n",
              "    [theme=dark] .colab-df-convert {\n",
              "      background-color: #3B4455;\n",
              "      fill: #D2E3FC;\n",
              "    }\n",
              "\n",
              "    [theme=dark] .colab-df-convert:hover {\n",
              "      background-color: #434B5C;\n",
              "      box-shadow: 0px 1px 3px 1px rgba(0, 0, 0, 0.15);\n",
              "      filter: drop-shadow(0px 1px 2px rgba(0, 0, 0, 0.3));\n",
              "      fill: #FFFFFF;\n",
              "    }\n",
              "  </style>\n",
              "\n",
              "    <script>\n",
              "      const buttonEl =\n",
              "        document.querySelector('#df-38a53383-b89c-4cc8-a01d-e3fc556cd0e9 button.colab-df-convert');\n",
              "      buttonEl.style.display =\n",
              "        google.colab.kernel.accessAllowed ? 'block' : 'none';\n",
              "\n",
              "      async function convertToInteractive(key) {\n",
              "        const element = document.querySelector('#df-38a53383-b89c-4cc8-a01d-e3fc556cd0e9');\n",
              "        const dataTable =\n",
              "          await google.colab.kernel.invokeFunction('convertToInteractive',\n",
              "                                                    [key], {});\n",
              "        if (!dataTable) return;\n",
              "\n",
              "        const docLinkHtml = 'Like what you see? Visit the ' +\n",
              "          '<a target=\"_blank\" href=https://colab.research.google.com/notebooks/data_table.ipynb>data table notebook</a>'\n",
              "          + ' to learn more about interactive tables.';\n",
              "        element.innerHTML = '';\n",
              "        dataTable['output_type'] = 'display_data';\n",
              "        await google.colab.output.renderOutput(dataTable, element);\n",
              "        const docLink = document.createElement('div');\n",
              "        docLink.innerHTML = docLinkHtml;\n",
              "        element.appendChild(docLink);\n",
              "      }\n",
              "    </script>\n",
              "  </div>\n",
              "\n",
              "\n",
              "    <div id=\"df-7e489501-9294-44ac-9e0f-d73f1ea4968e\">\n",
              "      <button class=\"colab-df-quickchart\" onclick=\"quickchart('df-7e489501-9294-44ac-9e0f-d73f1ea4968e')\"\n",
              "                title=\"Suggest charts\"\n",
              "                style=\"display:none;\">\n",
              "\n",
              "<svg xmlns=\"http://www.w3.org/2000/svg\" height=\"24px\"viewBox=\"0 0 24 24\"\n",
              "     width=\"24px\">\n",
              "    <g>\n",
              "        <path d=\"M19 3H5c-1.1 0-2 .9-2 2v14c0 1.1.9 2 2 2h14c1.1 0 2-.9 2-2V5c0-1.1-.9-2-2-2zM9 17H7v-7h2v7zm4 0h-2V7h2v10zm4 0h-2v-4h2v4z\"/>\n",
              "    </g>\n",
              "</svg>\n",
              "      </button>\n",
              "\n",
              "<style>\n",
              "  .colab-df-quickchart {\n",
              "      --bg-color: #E8F0FE;\n",
              "      --fill-color: #1967D2;\n",
              "      --hover-bg-color: #E2EBFA;\n",
              "      --hover-fill-color: #174EA6;\n",
              "      --disabled-fill-color: #AAA;\n",
              "      --disabled-bg-color: #DDD;\n",
              "  }\n",
              "\n",
              "  [theme=dark] .colab-df-quickchart {\n",
              "      --bg-color: #3B4455;\n",
              "      --fill-color: #D2E3FC;\n",
              "      --hover-bg-color: #434B5C;\n",
              "      --hover-fill-color: #FFFFFF;\n",
              "      --disabled-bg-color: #3B4455;\n",
              "      --disabled-fill-color: #666;\n",
              "  }\n",
              "\n",
              "  .colab-df-quickchart {\n",
              "    background-color: var(--bg-color);\n",
              "    border: none;\n",
              "    border-radius: 50%;\n",
              "    cursor: pointer;\n",
              "    display: none;\n",
              "    fill: var(--fill-color);\n",
              "    height: 32px;\n",
              "    padding: 0;\n",
              "    width: 32px;\n",
              "  }\n",
              "\n",
              "  .colab-df-quickchart:hover {\n",
              "    background-color: var(--hover-bg-color);\n",
              "    box-shadow: 0 1px 2px rgba(60, 64, 67, 0.3), 0 1px 3px 1px rgba(60, 64, 67, 0.15);\n",
              "    fill: var(--button-hover-fill-color);\n",
              "  }\n",
              "\n",
              "  .colab-df-quickchart-complete:disabled,\n",
              "  .colab-df-quickchart-complete:disabled:hover {\n",
              "    background-color: var(--disabled-bg-color);\n",
              "    fill: var(--disabled-fill-color);\n",
              "    box-shadow: none;\n",
              "  }\n",
              "\n",
              "  .colab-df-spinner {\n",
              "    border: 2px solid var(--fill-color);\n",
              "    border-color: transparent;\n",
              "    border-bottom-color: var(--fill-color);\n",
              "    animation:\n",
              "      spin 1s steps(1) infinite;\n",
              "  }\n",
              "\n",
              "  @keyframes spin {\n",
              "    0% {\n",
              "      border-color: transparent;\n",
              "      border-bottom-color: var(--fill-color);\n",
              "      border-left-color: var(--fill-color);\n",
              "    }\n",
              "    20% {\n",
              "      border-color: transparent;\n",
              "      border-left-color: var(--fill-color);\n",
              "      border-top-color: var(--fill-color);\n",
              "    }\n",
              "    30% {\n",
              "      border-color: transparent;\n",
              "      border-left-color: var(--fill-color);\n",
              "      border-top-color: var(--fill-color);\n",
              "      border-right-color: var(--fill-color);\n",
              "    }\n",
              "    40% {\n",
              "      border-color: transparent;\n",
              "      border-right-color: var(--fill-color);\n",
              "      border-top-color: var(--fill-color);\n",
              "    }\n",
              "    60% {\n",
              "      border-color: transparent;\n",
              "      border-right-color: var(--fill-color);\n",
              "    }\n",
              "    80% {\n",
              "      border-color: transparent;\n",
              "      border-right-color: var(--fill-color);\n",
              "      border-bottom-color: var(--fill-color);\n",
              "    }\n",
              "    90% {\n",
              "      border-color: transparent;\n",
              "      border-bottom-color: var(--fill-color);\n",
              "    }\n",
              "  }\n",
              "</style>\n",
              "\n",
              "      <script>\n",
              "        async function quickchart(key) {\n",
              "          const quickchartButtonEl =\n",
              "            document.querySelector('#' + key + ' button');\n",
              "          quickchartButtonEl.disabled = true;  // To prevent multiple clicks.\n",
              "          quickchartButtonEl.classList.add('colab-df-spinner');\n",
              "          try {\n",
              "            const charts = await google.colab.kernel.invokeFunction(\n",
              "                'suggestCharts', [key], {});\n",
              "          } catch (error) {\n",
              "            console.error('Error during call to suggestCharts:', error);\n",
              "          }\n",
              "          quickchartButtonEl.classList.remove('colab-df-spinner');\n",
              "          quickchartButtonEl.classList.add('colab-df-quickchart-complete');\n",
              "        }\n",
              "        (() => {\n",
              "          let quickchartButtonEl =\n",
              "            document.querySelector('#df-7e489501-9294-44ac-9e0f-d73f1ea4968e button');\n",
              "          quickchartButtonEl.style.display =\n",
              "            google.colab.kernel.accessAllowed ? 'block' : 'none';\n",
              "        })();\n",
              "      </script>\n",
              "    </div>\n",
              "\n",
              "  <div id=\"id_fe20aff0-296e-4b4e-b80a-ecdd9100bfe6\">\n",
              "    <style>\n",
              "      .colab-df-generate {\n",
              "        background-color: #E8F0FE;\n",
              "        border: none;\n",
              "        border-radius: 50%;\n",
              "        cursor: pointer;\n",
              "        display: none;\n",
              "        fill: #1967D2;\n",
              "        height: 32px;\n",
              "        padding: 0 0 0 0;\n",
              "        width: 32px;\n",
              "      }\n",
              "\n",
              "      .colab-df-generate:hover {\n",
              "        background-color: #E2EBFA;\n",
              "        box-shadow: 0px 1px 2px rgba(60, 64, 67, 0.3), 0px 1px 3px 1px rgba(60, 64, 67, 0.15);\n",
              "        fill: #174EA6;\n",
              "      }\n",
              "\n",
              "      [theme=dark] .colab-df-generate {\n",
              "        background-color: #3B4455;\n",
              "        fill: #D2E3FC;\n",
              "      }\n",
              "\n",
              "      [theme=dark] .colab-df-generate:hover {\n",
              "        background-color: #434B5C;\n",
              "        box-shadow: 0px 1px 3px 1px rgba(0, 0, 0, 0.15);\n",
              "        filter: drop-shadow(0px 1px 2px rgba(0, 0, 0, 0.3));\n",
              "        fill: #FFFFFF;\n",
              "      }\n",
              "    </style>\n",
              "    <button class=\"colab-df-generate\" onclick=\"generateWithVariable('df')\"\n",
              "            title=\"Generate code using this dataframe.\"\n",
              "            style=\"display:none;\">\n",
              "\n",
              "  <svg xmlns=\"http://www.w3.org/2000/svg\" height=\"24px\"viewBox=\"0 0 24 24\"\n",
              "       width=\"24px\">\n",
              "    <path d=\"M7,19H8.4L18.45,9,17,7.55,7,17.6ZM5,21V16.75L18.45,3.32a2,2,0,0,1,2.83,0l1.4,1.43a1.91,1.91,0,0,1,.58,1.4,1.91,1.91,0,0,1-.58,1.4L9.25,21ZM18.45,9,17,7.55Zm-12,3A5.31,5.31,0,0,0,4.9,8.1,5.31,5.31,0,0,0,1,6.5,5.31,5.31,0,0,0,4.9,4.9,5.31,5.31,0,0,0,6.5,1,5.31,5.31,0,0,0,8.1,4.9,5.31,5.31,0,0,0,12,6.5,5.46,5.46,0,0,0,6.5,12Z\"/>\n",
              "  </svg>\n",
              "    </button>\n",
              "    <script>\n",
              "      (() => {\n",
              "      const buttonEl =\n",
              "        document.querySelector('#id_fe20aff0-296e-4b4e-b80a-ecdd9100bfe6 button.colab-df-generate');\n",
              "      buttonEl.style.display =\n",
              "        google.colab.kernel.accessAllowed ? 'block' : 'none';\n",
              "\n",
              "      buttonEl.onclick = () => {\n",
              "        google.colab.notebook.generateWithVariable('df');\n",
              "      }\n",
              "      })();\n",
              "    </script>\n",
              "  </div>\n",
              "\n",
              "    </div>\n",
              "  </div>\n"
            ],
            "application/vnd.google.colaboratory.intrinsic+json": {
              "type": "dataframe",
              "variable_name": "df",
              "summary": "{\n  \"name\": \"df\",\n  \"rows\": 2,\n  \"fields\": [\n    {\n      \"column\": \"Method\",\n      \"properties\": {\n        \"dtype\": \"string\",\n        \"num_unique_values\": 2,\n        \"samples\": [\n          \"Gradient Descent\",\n          \"Closed-form\"\n        ],\n        \"semantic_type\": \"\",\n        \"description\": \"\"\n      }\n    },\n    {\n      \"column\": \"Intercept\",\n      \"properties\": {\n        \"dtype\": \"number\",\n        \"std\": 1.3177126566937694e-10,\n        \"min\": 2.69084138327786,\n        \"max\": 2.6908413834642126,\n        \"num_unique_values\": 2,\n        \"samples\": [\n          2.69084138327786,\n          2.6908413834642126\n        ],\n        \"semantic_type\": \"\",\n        \"description\": \"\"\n      }\n    },\n    {\n      \"column\": \"Slope\",\n      \"properties\": {\n        \"dtype\": \"number\",\n        \"std\": 4.1417154953889246e-11,\n        \"min\": 4.1318418328611495,\n        \"max\": 4.131841832919722,\n        \"num_unique_values\": 2,\n        \"samples\": [\n          4.131841832919722,\n          4.1318418328611495\n        ],\n        \"semantic_type\": \"\",\n        \"description\": \"\"\n      }\n    }\n  ]\n}"
            }
          },
          "metadata": {}
        }
      ],
      "source": [
        "import numpy as np\n",
        "import matplotlib.pyplot as plt\n",
        "import pandas as pd\n",
        "\n",
        "# -----------------------------\n",
        "# 1) Generate synthetic dataset\n",
        "# y = 3 + 4x + ε, with ε ~ N(0, 1), 200 samples, x ∈ [0, 5]\n",
        "# -----------------------------\n",
        "rng = np.random.default_rng(42)\n",
        "n = 200\n",
        "x = rng.uniform(0.0, 5.0, n)\n",
        "eps = rng.normal(0.0, 1.0, n)\n",
        "y = 3.0 + 4.0*x + eps\n",
        "\n",
        "# Bias column of 1's + feature column (shape: n x 2)\n",
        "# X = [1, x]\n",
        "X = np.column_stack([np.ones(n), x])\n",
        "\n",
        "# --------------------------------------------------\n",
        "# 2) Closed-form solution (Normal Equation)\n",
        "# θ̂ = (Xᵀ X)^{-1} Xᵀ y\n",
        "# --------------------------------------------------\n",
        "theta_ne = np.linalg.inv(X.T @ X) @ (X.T @ y)\n",
        "intercept_ne, slope_ne = theta_ne\n",
        "\n",
        "# --------------------------------------------------\n",
        "# 3) Gradient Descent (MSE)\n",
        "# Initialize θ = [0, 0], η = 0.05, 1000 iterations\n",
        "# MSE J(θ) = (1/n) * ||y - Xθ||^2\n",
        "# ∇J(θ) = (2/n) * Xᵀ(Xθ - y)\n",
        "# --------------------------------------------------\n",
        "theta = np.zeros(2)\n",
        "eta = 0.05\n",
        "iters = 1000\n",
        "losses = []\n",
        "for i in range(iters):\n",
        "    preds = X @ theta # Xθ\n",
        "    error = preds - y # (Xθ - y)\n",
        "    loss = np.mean(error**2)  # MSE\n",
        "    losses.append(loss)\n",
        "    grad = (2.0/n) * (X.T @ error) # gradient\n",
        "    theta = theta - eta * grad # θ ← θ - η∇J(θ)\n",
        "intercept_gd, slope_gd = theta\n",
        "\n",
        "print(f\"Closed-form intercept: {intercept_ne:.6f}\")\n",
        "print(f\"Closed-form slope: {slope_ne:.6f}\")\n",
        "print(f\"Gradient Descent intercept: {intercept_gd:.6f}\")\n",
        "print(f\"Gradient Descent slope: {slope_gd:.6f}\")\n",
        "print(f\"L2 difference between solutions: {np.linalg.norm(theta - theta_ne):.6e}\")\n",
        "\n",
        "df = pd.DataFrame({\n",
        "    \"Method\": [\"Closed-form\", \"Gradient Descent\"],\n",
        "    \"Intercept\": [intercept_ne, intercept_gd],\n",
        "    \"Slope\": [slope_ne, slope_gd]\n",
        "})\n",
        "display(df)\n",
        "\n",
        "\n"
      ]
    },
    {
      "cell_type": "code",
      "source": [
        "# Plot raw data + both fitted lines on the SAME figure\n",
        "x_line = np.linspace(0.0, 5.0, 200)\n",
        "y_ne_line = intercept_ne + slope_ne * x_line\n",
        "y_gd_line = intercept_gd + slope_gd * x_line\n",
        "\n",
        "\n",
        "plt.figure(figsize=(10,6))\n",
        "plt.scatter(x, y, s=18, label=\"Data\")\n",
        "plt.plot(x_line, y_ne_line, linewidth=2, label=\"Closed-form fit\")\n",
        "plt.plot(x_line, y_gd_line, linewidth=2, label=\"GD fit\")\n",
        "plt.xlabel(\"x\")\n",
        "plt.ylabel(\"y\")\n",
        "plt.title(\"Linear Regression: Data and Fitted Lines\")\n",
        "plt.legend()\n",
        "plt.show()"
      ],
      "metadata": {
        "colab": {
          "base_uri": "https://localhost:8080/",
          "height": 564
        },
        "id": "_AzoLyQmFnct",
        "outputId": "864186de-0541-43c9-baee-4d315dc13468"
      },
      "execution_count": null,
      "outputs": [
        {
          "output_type": "display_data",
          "data": {
            "text/plain": [
              "<Figure size 1000x600 with 1 Axes>"
            ],
            "image/png": "[encoded data removed]"
          },
          "metadata": {}
        }
      ]
    },
    {
      "cell_type": "code",
      "source": [
        "# Plot MSE vs. iterations (loss curve)\n",
        "plt.figure(figsize=(10,6))\n",
        "plt.plot(range(1, iters+1), losses, linewidth=2)\n",
        "plt.xlabel(\"Iteration\")\n",
        "plt.ylabel(\"MSE\")\n",
        "plt.title(\"Gradient Descent: MSE vs Iterations\")\n",
        "plt.show()\n"
      ],
      "metadata": {
        "colab": {
          "base_uri": "https://localhost:8080/",
          "height": 564
        },
        "id": "NsjoKe2ZFolA",
        "outputId": "5f24128a-2009-47df-aed2-12109706cf59"
      },
      "execution_count": null,
      "outputs": [
        {
          "output_type": "display_data",
          "data": {
            "text/plain": [
              "<Figure size 1000x600 with 1 Axes>"
            ],
            "image/png": "[encoded data removed]"
          },
          "metadata": {}
        }
      ]
    },
    {
      "cell_type": "markdown",
      "source": [
        "Both methods recover parameters very close to the ground-truth line $y=3+4x+\\varepsilon$ despite the Gaussian noise.\n",
        "With $\\eta=0.05$ and 1000 iterations, gradient descent’s parameters match the Normal Equation solution (overlapping fitted lines), and the MSE curve drops quickly before flattening—evidence of convergence.\n",
        "Any tiny discrepancy is due to noise and finite-precision/iteration effects.\n"
      ],
      "metadata": {
        "id": "fQ2-wdpuIaZr"
      }
    }
  ]
}